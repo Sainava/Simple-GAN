{
  "nbformat": 4,
  "nbformat_minor": 0,
  "metadata": {
    "colab": {
      "provenance": [],
      "authorship_tag": "ABX9TyNHcx9WNfq0hsqTg43sayX7",
      "include_colab_link": true
    },
    "kernelspec": {
      "name": "python3",
      "display_name": "Python 3"
    },
    "language_info": {
      "name": "python"
    }
  },
  "cells": [
    {
      "cell_type": "markdown",
      "metadata": {
        "id": "view-in-github",
        "colab_type": "text"
      },
      "source": [
        "<a href=\"https://colab.research.google.com/github/Sainava/Simple-GAN/blob/main/GAN.ipynb\" target=\"_parent\"><img src=\"https://colab.research.google.com/assets/colab-badge.svg\" alt=\"Open In Colab\"/></a>"
      ]
    },
    {
      "cell_type": "code",
      "execution_count": 13,
      "metadata": {
        "id": "HyEWq10u-yhb"
      },
      "outputs": [],
      "source": [
        "import torch\n",
        "import torch.nn as nn\n",
        "import torch.optim as optim\n",
        "import torchvision\n",
        "import torchvision.datasets as datasets\n",
        "from torch.utils.data import DataLoader\n",
        "import torchvision.transforms as transforms\n",
        "from torch.utils.tensorboard import SummaryWriter\n"
      ]
    },
    {
      "cell_type": "code",
      "source": [
        "class Discriminator(nn.Module):\n",
        "    def __init__(self, in_features):\n",
        "        super().__init__()\n",
        "        self.disc = nn.Sequential(\n",
        "            nn.Linear(in_features, 128),\n",
        "            nn.LeakyReLU(0.01),\n",
        "            nn.Linear(128, 1),\n",
        "            nn.Sigmoid(),\n",
        "        )\n",
        "    def forward(self, x):\n",
        "        return self.disc(x)\n"
      ],
      "metadata": {
        "id": "gCMshqBd_Qgu"
      },
      "execution_count": 14,
      "outputs": []
    },
    {
      "cell_type": "code",
      "source": [
        "class Generator(nn.Module):\n",
        "    def __init__(self, z_dim, img_dim):\n",
        "        super().__init__()\n",
        "        self.gen = nn.Sequential(\n",
        "            nn.Linear(z_dim, 256),\n",
        "            nn.LeakyReLU(0.1),\n",
        "            nn.Linear(256, img_dim),\n",
        "            nn.Tanh(),\n",
        "        )\n",
        "    def forward(self, x):\n",
        "        return self.gen(x)"
      ],
      "metadata": {
        "id": "EvAtj70LBPUJ"
      },
      "execution_count": 15,
      "outputs": []
    },
    {
      "cell_type": "code",
      "source": [
        "device=\"cuda\" if torch.cuda.is_available() else \"cpu\"\n",
        "lr=3e-4\n",
        "z_dim=64\n",
        "image_dim=28*28*1\n",
        "batch_size=32\n",
        "num_epochs=50\n",
        "\n",
        "disc=Discriminator(image_dim).to(device)\n",
        "gen=Generator(z_dim, image_dim).to(device)\n",
        "fixed_noise=torch.randn((batch_size, z_dim)).to(device)\n",
        "transforms=transforms.Compose(\n",
        "    [transforms.ToTensor(), transforms.Normalize((0.5,), (0.5,)),]\n",
        ")\n",
        "datasets=datasets.MNIST(root=\"dataset/\", transform=transforms, download=True)\n",
        "loader=DataLoader(datasets, batch_size=batch_size, shuffle=True)\n",
        "opt_disc=optim.Adam(disc.parameters(), lr=lr)\n",
        "opt_gen=optim.Adam(gen.parameters(), lr=lr)\n",
        "criterion=nn.BCELoss()\n",
        "writer_fake=SummaryWriter(f\"logs/fake\")\n",
        "writer_real=SummaryWriter(f\"logs/real\")\n",
        "step=0"
      ],
      "metadata": {
        "id": "5QBANYSEBluc"
      },
      "execution_count": 16,
      "outputs": []
    },
    {
      "cell_type": "code",
      "source": [
        "for epoch in range(num_epochs):\n",
        "    for batch_idx, (real, _) in enumerate(loader):\n",
        "        real=real.view(-1, 784).to(device)\n",
        "        batch_size=real.shape[0]\n",
        "\n",
        "        noise=torch.randn(batch_size, z_dim).to(device)\n",
        "        fake=gen(noise)\n",
        "        disc_real=disc(real).view(-1)\n",
        "        lossD_real=criterion(disc_real, torch.ones_like(disc_real))\n",
        "        disc_fake=disc(fake).view(-1)\n",
        "        lossD_fake=criterion(disc_fake, torch.zeros_like(disc_fake))\n",
        "        lossD=(lossD_real+lossD_fake)/2\n",
        "        disc.zero_grad()\n",
        "        lossD.backward(retain_graph=True)\n",
        "        opt_disc.step()\n",
        "\n",
        "        output=disc(fake).view(-1)\n",
        "        lossG=criterion(output, torch.ones_like(output))\n",
        "        gen.zero_grad()\n",
        "        lossG.backward()\n",
        "        opt_gen.step()\n",
        "\n",
        "        if batch_idx==0:\n",
        "            print(\n",
        "                F\"Epoch [{epoch}/{num_epochs}] Batch {batch_idx}/{len(loader)} \\\n",
        "                      Loss D: {lossD:.4f}, loss G: {lossG:.4f}\"\n",
        "            )\n",
        "            with torch.no_grad():\n",
        "                fake=gen(fixed_noise).reshape(-1, 1, 28, 28)\n",
        "                data=real.reshape(-1, 1, 28, 28)\n",
        "                img_grid_fake=torchvision.utils.make_grid(fake, normalize=True)\n",
        "                img_grid_real=torchvision.utils.make_grid(data, normalize=True)\n",
        "\n",
        "                writer_fake.add_image(\n",
        "                    \"Mnist Fake Images\", img_grid_fake, global_step=step\n",
        "                )\n",
        "                writer_real.add_image(\n",
        "                    \"Mnist Real Images\", img_grid_real, global_step=step\n",
        "                )\n",
        "\n",
        "                step+=1\n"
      ],
      "metadata": {
        "colab": {
          "base_uri": "https://localhost:8080/"
        },
        "id": "AEIX_VCbCZnn",
        "outputId": "50792aaf-d99f-4695-83ed-6279ac043afa"
      },
      "execution_count": 17,
      "outputs": [
        {
          "output_type": "stream",
          "name": "stdout",
          "text": [
            "Epoch [0/50] Batch 0/1875                       Loss D: 0.6967, loss G: 0.6718\n",
            "Epoch [1/50] Batch 0/1875                       Loss D: 0.2957, loss G: 1.6248\n",
            "Epoch [2/50] Batch 0/1875                       Loss D: 0.4073, loss G: 1.5364\n",
            "Epoch [3/50] Batch 0/1875                       Loss D: 0.5076, loss G: 1.1362\n",
            "Epoch [4/50] Batch 0/1875                       Loss D: 0.3953, loss G: 2.6010\n",
            "Epoch [5/50] Batch 0/1875                       Loss D: 0.8658, loss G: 0.6305\n",
            "Epoch [6/50] Batch 0/1875                       Loss D: 0.6308, loss G: 1.5010\n",
            "Epoch [7/50] Batch 0/1875                       Loss D: 0.6143, loss G: 1.2580\n",
            "Epoch [8/50] Batch 0/1875                       Loss D: 0.5964, loss G: 1.0745\n",
            "Epoch [9/50] Batch 0/1875                       Loss D: 0.5813, loss G: 1.1287\n",
            "Epoch [10/50] Batch 0/1875                       Loss D: 0.7845, loss G: 1.0057\n",
            "Epoch [11/50] Batch 0/1875                       Loss D: 0.6168, loss G: 1.3869\n",
            "Epoch [12/50] Batch 0/1875                       Loss D: 0.7452, loss G: 0.9820\n",
            "Epoch [13/50] Batch 0/1875                       Loss D: 0.7795, loss G: 1.1532\n",
            "Epoch [14/50] Batch 0/1875                       Loss D: 0.4599, loss G: 1.4125\n",
            "Epoch [15/50] Batch 0/1875                       Loss D: 0.7903, loss G: 0.9952\n",
            "Epoch [16/50] Batch 0/1875                       Loss D: 0.7086, loss G: 0.9329\n",
            "Epoch [17/50] Batch 0/1875                       Loss D: 0.5274, loss G: 1.1907\n",
            "Epoch [18/50] Batch 0/1875                       Loss D: 0.5759, loss G: 1.0369\n",
            "Epoch [19/50] Batch 0/1875                       Loss D: 0.6645, loss G: 1.3055\n",
            "Epoch [21/50] Batch 0/1875                       Loss D: 0.7740, loss G: 1.1862\n",
            "Epoch [22/50] Batch 0/1875                       Loss D: 0.7370, loss G: 0.8760\n",
            "Epoch [23/50] Batch 0/1875                       Loss D: 0.4643, loss G: 1.0120\n",
            "Epoch [24/50] Batch 0/1875                       Loss D: 0.4548, loss G: 1.7197\n",
            "Epoch [25/50] Batch 0/1875                       Loss D: 0.6781, loss G: 1.2752\n",
            "Epoch [26/50] Batch 0/1875                       Loss D: 0.5111, loss G: 1.0751\n",
            "Epoch [27/50] Batch 0/1875                       Loss D: 0.6531, loss G: 1.1712\n",
            "Epoch [28/50] Batch 0/1875                       Loss D: 0.5965, loss G: 1.3418\n",
            "Epoch [29/50] Batch 0/1875                       Loss D: 0.6696, loss G: 0.9827\n",
            "Epoch [30/50] Batch 0/1875                       Loss D: 0.6321, loss G: 1.1916\n",
            "Epoch [31/50] Batch 0/1875                       Loss D: 0.7274, loss G: 1.3720\n",
            "Epoch [32/50] Batch 0/1875                       Loss D: 0.5477, loss G: 1.0085\n",
            "Epoch [33/50] Batch 0/1875                       Loss D: 0.7166, loss G: 0.8802\n",
            "Epoch [34/50] Batch 0/1875                       Loss D: 0.7299, loss G: 0.9553\n",
            "Epoch [35/50] Batch 0/1875                       Loss D: 0.7466, loss G: 1.1109\n",
            "Epoch [36/50] Batch 0/1875                       Loss D: 0.5638, loss G: 1.1596\n",
            "Epoch [37/50] Batch 0/1875                       Loss D: 0.5752, loss G: 1.0800\n",
            "Epoch [38/50] Batch 0/1875                       Loss D: 0.7107, loss G: 0.9679\n",
            "Epoch [39/50] Batch 0/1875                       Loss D: 0.5369, loss G: 1.1243\n",
            "Epoch [40/50] Batch 0/1875                       Loss D: 0.5968, loss G: 1.1101\n",
            "Epoch [41/50] Batch 0/1875                       Loss D: 0.6276, loss G: 1.0173\n",
            "Epoch [42/50] Batch 0/1875                       Loss D: 0.6620, loss G: 1.1308\n",
            "Epoch [43/50] Batch 0/1875                       Loss D: 0.6826, loss G: 1.1098\n",
            "Epoch [44/50] Batch 0/1875                       Loss D: 0.5620, loss G: 1.0088\n",
            "Epoch [45/50] Batch 0/1875                       Loss D: 0.5491, loss G: 1.0909\n",
            "Epoch [46/50] Batch 0/1875                       Loss D: 0.5721, loss G: 1.0960\n",
            "Epoch [47/50] Batch 0/1875                       Loss D: 0.5965, loss G: 1.1426\n",
            "Epoch [48/50] Batch 0/1875                       Loss D: 0.6073, loss G: 1.0756\n",
            "Epoch [49/50] Batch 0/1875                       Loss D: 0.5708, loss G: 0.9646\n"
          ]
        }
      ]
    },
    {
      "cell_type": "code",
      "source": [],
      "metadata": {
        "id": "6LOtRO0jDp42"
      },
      "execution_count": null,
      "outputs": []
    }
  ]
}